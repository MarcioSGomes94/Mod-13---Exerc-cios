{
 "cells": [
  {
   "cell_type": "markdown",
   "metadata": {},
   "source": [
    "# EBAC - Regressão II - regressão múltipla\n",
    "\n",
    "## Tarefa I"
   ]
  },
  {
   "cell_type": "markdown",
   "metadata": {},
   "source": [
    "#### Previsão de renda\n",
    "\n",
    "Vamos trabalhar com a base 'previsao_de_renda.csv', que é a base do seu próximo projeto. Vamos usar os recursos que vimos até aqui nesta base.\n",
    "\n",
    "|variavel|descrição|\n",
    "|-|-|\n",
    "|data_ref                | Data de referência de coleta das variáveis |\n",
    "|index                   | Código de identificação do cliente|\n",
    "|sexo                    | Sexo do cliente|\n",
    "|posse_de_veiculo        | Indica se o cliente possui veículo|\n",
    "|posse_de_imovel         | Indica se o cliente possui imóvel|\n",
    "|qtd_filhos              | Quantidade de filhos do cliente|\n",
    "|tipo_renda              | Tipo de renda do cliente|\n",
    "|educacao                | Grau de instrução do cliente|\n",
    "|estado_civil            | Estado civil do cliente|\n",
    "|tipo_residencia         | Tipo de residência do cliente (própria, alugada etc)|\n",
    "|idade                   | Idade do cliente|\n",
    "|tempo_emprego           | Tempo no emprego atual|\n",
    "|qt_pessoas_residencia   | Quantidade de pessoas que moram na residência|\n",
    "|renda                   | Renda em reais|"
   ]
  },
  {
   "cell_type": "code",
   "execution_count": 1,
   "metadata": {},
   "outputs": [],
   "source": [
    "import pandas as pd\n",
    "import numpy as np\n",
    "\n",
    "import seaborn as sns\n",
    "import matplotlib.pyplot as plt\n",
    "\n",
    "import statsmodels.formula.api as smf\n",
    "import statsmodels.api as sm\n",
    "import patsy\n",
    "\n",
    "%matplotlib inline"
   ]
  },
  {
   "cell_type": "code",
   "execution_count": 2,
   "metadata": {},
   "outputs": [],
   "source": [
    "df = pd.read_csv('previsao_de_renda.csv')"
   ]
  },
  {
   "cell_type": "code",
   "execution_count": 3,
   "metadata": {},
   "outputs": [
    {
     "name": "stdout",
     "output_type": "stream",
     "text": [
      "<class 'pandas.core.frame.DataFrame'>\n",
      "RangeIndex: 15000 entries, 0 to 14999\n",
      "Data columns (total 15 columns):\n",
      " #   Column                 Non-Null Count  Dtype  \n",
      "---  ------                 --------------  -----  \n",
      " 0   Unnamed: 0             15000 non-null  int64  \n",
      " 1   data_ref               15000 non-null  object \n",
      " 2   id_cliente             15000 non-null  int64  \n",
      " 3   sexo                   15000 non-null  object \n",
      " 4   posse_de_veiculo       15000 non-null  bool   \n",
      " 5   posse_de_imovel        15000 non-null  bool   \n",
      " 6   qtd_filhos             15000 non-null  int64  \n",
      " 7   tipo_renda             15000 non-null  object \n",
      " 8   educacao               15000 non-null  object \n",
      " 9   estado_civil           15000 non-null  object \n",
      " 10  tipo_residencia        15000 non-null  object \n",
      " 11  idade                  15000 non-null  int64  \n",
      " 12  tempo_emprego          12427 non-null  float64\n",
      " 13  qt_pessoas_residencia  15000 non-null  float64\n",
      " 14  renda                  15000 non-null  float64\n",
      "dtypes: bool(2), float64(3), int64(4), object(6)\n",
      "memory usage: 1.5+ MB\n"
     ]
    }
   ],
   "source": [
    "df.info()"
   ]
  },
  {
   "cell_type": "markdown",
   "metadata": {},
   "source": [
    "1. Ajuste um modelo para prever log(renda) considerando todas as covariáveis disponíveis.\n",
    "    - Utilizando os recursos do Patsy, coloque as variáveis qualitativas como *dummies*.\n",
    "    - Mantenha sempre a categoria mais frequente como casela de referência\n",
    "    - Avalie os parâmetros e veja se parecem fazer sentido prático.  \n",
    "\n",
    "\n",
    "2. Remova a variável menos significante e analise:\n",
    "    - Observe os indicadores que vimos, e avalie se o modelo melhorou ou piorou na sua opinião.\n",
    "    - Observe os parâmetros e veja se algum se alterou muito.  \n",
    "\n",
    "\n",
    "3. Siga removendo as variáveis menos significantes, sempre que o *p-value* for menor que 5%. Compare o modelo final com o inicial. Observe os indicadores e conclua se o modelo parece melhor. \n",
    "    "
   ]
  },
  {
   "cell_type": "code",
   "execution_count": 16,
   "metadata": {},
   "outputs": [
    {
     "name": "stdout",
     "output_type": "stream",
     "text": [
      "                            OLS Regression Results                            \n",
      "==============================================================================\n",
      "Dep. Variable:          np.log(renda)   R-squared:                       0.357\n",
      "Model:                            OLS   Adj. R-squared:                  0.356\n",
      "Method:                 Least Squares   F-statistic:                     287.5\n",
      "Date:                Fri, 02 May 2025   Prob (F-statistic):               0.00\n",
      "Time:                        10:52:41   Log-Likelihood:                -13568.\n",
      "No. Observations:               12427   AIC:                         2.719e+04\n",
      "Df Residuals:                   12402   BIC:                         2.737e+04\n",
      "Df Model:                          24                                         \n",
      "Covariance Type:            nonrobust                                         \n",
      "====================================================================================================\n",
      "                                       coef    std err          t      P>|t|      [0.025      0.975]\n",
      "----------------------------------------------------------------------------------------------------\n",
      "Intercept                            6.5847      0.235     28.006      0.000       6.124       7.046\n",
      "sexo[T.M]                            0.7874      0.015     53.723      0.000       0.759       0.816\n",
      "posse_de_veiculo[T.True]             0.0441      0.014      3.119      0.002       0.016       0.072\n",
      "posse_de_imovel[T.True]              0.0829      0.014      5.926      0.000       0.055       0.110\n",
      "tipo_renda[T.Bolsista]               0.2209      0.241      0.916      0.360      -0.252       0.694\n",
      "tipo_renda[T.Empresário]             0.1551      0.015     10.387      0.000       0.126       0.184\n",
      "tipo_renda[T.Pensionista]           -0.3087      0.241     -1.280      0.201      -0.782       0.164\n",
      "tipo_renda[T.Servidor público]       0.0576      0.022      2.591      0.010       0.014       0.101\n",
      "educacao[T.Pós graduação]            0.1071      0.159      0.673      0.501      -0.205       0.419\n",
      "educacao[T.Secundário]              -0.0141      0.072     -0.196      0.844      -0.155       0.127\n",
      "educacao[T.Superior completo]        0.0938      0.072      1.298      0.194      -0.048       0.235\n",
      "educacao[T.Superior incompleto]     -0.0432      0.078     -0.555      0.579      -0.196       0.109\n",
      "estado_civil[T.Separado]             0.3265      0.111      2.935      0.003       0.108       0.545\n",
      "estado_civil[T.Solteiro]             0.2672      0.109      2.453      0.014       0.054       0.481\n",
      "estado_civil[T.União]               -0.0343      0.025     -1.361      0.174      -0.084       0.015\n",
      "estado_civil[T.Viúvo]                0.3689      0.116      3.191      0.001       0.142       0.596\n",
      "tipo_residencia[T.Casa]             -0.0442      0.054     -0.815      0.415      -0.150       0.062\n",
      "tipo_residencia[T.Com os pais]      -0.0258      0.060     -0.427      0.670      -0.144       0.093\n",
      "tipo_residencia[T.Comunitário]      -0.1196      0.105     -1.135      0.256      -0.326       0.087\n",
      "tipo_residencia[T.Estúdio]           0.0665      0.099      0.670      0.503      -0.128       0.261\n",
      "tipo_residencia[T.Governamental]    -0.0571      0.066     -0.865      0.387      -0.186       0.072\n",
      "qtd_filhos                          -0.2658      0.108     -2.463      0.014      -0.477      -0.054\n",
      "idade                                0.0053      0.001      6.624      0.000       0.004       0.007\n",
      "tempo_emprego                        0.0617      0.001     59.398      0.000       0.060       0.064\n",
      "qt_pessoas_residencia                0.2926      0.108      2.716      0.007       0.081       0.504\n",
      "==============================================================================\n",
      "Omnibus:                        0.858   Durbin-Watson:                   2.023\n",
      "Prob(Omnibus):                  0.651   Jarque-Bera (JB):                0.839\n",
      "Skew:                           0.019   Prob(JB):                        0.657\n",
      "Kurtosis:                       3.012   Cond. No.                     2.18e+03\n",
      "==============================================================================\n",
      "\n",
      "Notes:\n",
      "[1] Standard Errors assume that the covariance matrix of the errors is correctly specified.\n",
      "[2] The condition number is large, 2.18e+03. This might indicate that there are\n",
      "strong multicollinearity or other numerical problems.\n"
     ]
    }
   ],
   "source": [
    "\n",
    "df_model = df.drop(columns=['Unnamed: 0', 'data_ref', 'id_cliente'])\n",
    "\n",
    "df_model = df_model.dropna()\n",
    "\n",
    "formula = 'np.log(renda) ~ sexo + posse_de_veiculo + posse_de_imovel + qtd_filhos + tipo_renda + ' \\\n",
    "          'educacao + estado_civil + tipo_residencia + idade + tempo_emprego + qt_pessoas_residencia'\n",
    "\n",
    "y, X = patsy.dmatrices(formula, data=df_model, return_type='dataframe')\n",
    "\n",
    "modelo = sm.OLS(y, X).fit()\n",
    "\n",
    "print(modelo.summary())\n"
   ]
  },
  {
   "cell_type": "code",
   "execution_count": 22,
   "metadata": {},
   "outputs": [
    {
     "name": "stdout",
     "output_type": "stream",
     "text": [
      "                            OLS Regression Results                            \n",
      "==============================================================================\n",
      "Dep. Variable:          np.log(renda)   R-squared:                       0.344\n",
      "Model:                            OLS   Adj. R-squared:                  0.343\n",
      "Method:                 Least Squares   F-statistic:                     523.9\n",
      "Date:                Fri, 02 May 2025   Prob (F-statistic):               0.00\n",
      "Time:                        11:01:56   Log-Likelihood:                -16262.\n",
      "No. Observations:               15000   AIC:                         3.256e+04\n",
      "Df Residuals:                   14984   BIC:                         3.268e+04\n",
      "Df Model:                          15                                         \n",
      "Covariance Type:            nonrobust                                         \n",
      "=========================================================================================================================================\n",
      "                                                                            coef    std err          t      P>|t|      [0.025      0.975]\n",
      "-----------------------------------------------------------------------------------------------------------------------------------------\n",
      "Intercept                                                                 6.6683      0.212     31.490      0.000       6.253       7.083\n",
      "sexo[T.M]                                                                 0.7887      0.014     57.356      0.000       0.762       0.816\n",
      "posse_de_veiculo[T.True]                                                  0.0448      0.013      3.436      0.001       0.019       0.070\n",
      "posse_de_imovel[T.True]                                                   0.0900      0.013      7.109      0.000       0.065       0.115\n",
      "C(tipo_renda, Treatment(reference=\"Assalariado\"))[T.Bolsista]             0.2929      0.239      1.226      0.220      -0.176       0.761\n",
      "C(tipo_renda, Treatment(reference=\"Assalariado\"))[T.Empresário]           0.1653      0.015     11.228      0.000       0.136       0.194\n",
      "C(tipo_renda, Treatment(reference=\"Assalariado\"))[T.Pensionista]         -0.0842      0.021     -3.939      0.000      -0.126      -0.042\n",
      "C(tipo_renda, Treatment(reference=\"Assalariado\"))[T.Servidor público]     0.0777      0.022      3.548      0.000       0.035       0.121\n",
      "C(estado_civil, Treatment(reference=\"Casado\"))[T.Separado]                0.2727      0.108      2.536      0.011       0.062       0.484\n",
      "C(estado_civil, Treatment(reference=\"Casado\"))[T.Solteiro]                0.2252      0.105      2.135      0.033       0.018       0.432\n",
      "C(estado_civil, Treatment(reference=\"Casado\"))[T.União]                  -0.0419      0.023     -1.818      0.069      -0.087       0.003\n",
      "C(estado_civil, Treatment(reference=\"Casado\"))[T.Viúvo]                   0.2690      0.109      2.479      0.013       0.056       0.482\n",
      "qtd_filhos                                                               -0.2261      0.105     -2.158      0.031      -0.431      -0.021\n",
      "idade                                                                     0.0047      0.001      6.280      0.000       0.003       0.006\n",
      "tempo_emprego                                                             0.0618      0.001     60.400      0.000       0.060       0.064\n",
      "qt_pessoas_residencia                                                     0.2511      0.105      2.401      0.016       0.046       0.456\n",
      "==============================================================================\n",
      "Omnibus:                        1.190   Durbin-Watson:                   2.019\n",
      "Prob(Omnibus):                  0.552   Jarque-Bera (JB):                1.162\n",
      "Skew:                           0.012   Prob(JB):                        0.559\n",
      "Kurtosis:                       3.036   Cond. No.                     2.48e+03\n",
      "==============================================================================\n",
      "\n",
      "Notes:\n",
      "[1] Standard Errors assume that the covariance matrix of the errors is correctly specified.\n",
      "[2] The condition number is large, 2.48e+03. This might indicate that there are\n",
      "strong multicollinearity or other numerical problems.\n"
     ]
    }
   ],
   "source": [
    "formula_reduzida = \"\"\"\n",
    "np.log(renda) ~ sexo + posse_de_veiculo + posse_de_imovel +\n",
    "                C(tipo_renda, Treatment(reference=\"Assalariado\")) +\n",
    "                C(estado_civil, Treatment(reference=\"Casado\")) +\n",
    "                qtd_filhos + idade + tempo_emprego + qt_pessoas_residencia\n",
    "\"\"\"\n",
    "\n",
    "df_model = df.drop(columns=['Unnamed: 0', 'data_ref', 'id_cliente'])\n",
    "df_model = df_model.dropna()\n",
    "\n",
    "y_reduzido, X_reduzido = patsy.dmatrices(formula_reduzida, data=df_model, return_type='dataframe')\n",
    "\n",
    "formula_reduzida = sm.OLS(y_reduzido, X_reduzido).fit()\n",
    "\n",
    "print(formula_reduzida.summary())"
   ]
  },
  {
   "cell_type": "markdown",
   "metadata": {},
   "source": [
    "O primeiro modelo apresentou um melhor AIC e R2, o que leva a crer que antes da retirada das variáveis não significativas tinha uma melhor qualidade de previsão.\n",
    "\n",
    "A maior alteração foi no tipo de renda, onde teve valores com mais discrepância apos a alteração."
   ]
  },
  {
   "cell_type": "code",
   "execution_count": 34,
   "metadata": {},
   "outputs": [
    {
     "name": "stdout",
     "output_type": "stream",
     "text": [
      "                            OLS Regression Results                            \n",
      "==============================================================================\n",
      "Dep. Variable:          np.log(renda)   R-squared:                       0.340\n",
      "Model:                            OLS   Adj. R-squared:                  0.339\n",
      "Method:                 Least Squares   F-statistic:                     592.9\n",
      "Date:                Fri, 02 May 2025   Prob (F-statistic):               0.00\n",
      "Time:                        11:13:43   Log-Likelihood:                -16312.\n",
      "No. Observations:               15000   AIC:                         3.265e+04\n",
      "Df Residuals:                   14986   BIC:                         3.276e+04\n",
      "Df Model:                          13                                         \n",
      "Covariance Type:            nonrobust                                         \n",
      "=========================================================================================================================================\n",
      "                                                                            coef    std err          t      P>|t|      [0.025      0.975]\n",
      "-----------------------------------------------------------------------------------------------------------------------------------------\n",
      "Intercept                                                                 6.9031      0.210     32.799      0.000       6.491       7.316\n",
      "sexo[T.M]                                                                 0.7782      0.014     56.593      0.000       0.751       0.805\n",
      "posse_de_veiculo[T.True]                                                  0.0422      0.013      3.229      0.001       0.017       0.068\n",
      "C(tipo_renda, Treatment(reference=\"Assalariado\"))[T.Bolsista]             0.3515      0.240      1.466      0.143      -0.118       0.821\n",
      "C(tipo_renda, Treatment(reference=\"Assalariado\"))[T.Empresário]           0.1630      0.015     11.044      0.000       0.134       0.192\n",
      "C(tipo_renda, Treatment(reference=\"Assalariado\"))[T.Pensionista]          0.0045      0.018      0.258      0.796      -0.030       0.039\n",
      "C(tipo_renda, Treatment(reference=\"Assalariado\"))[T.Servidor público]     0.0737      0.022      3.356      0.001       0.031       0.117\n",
      "C(estado_civil, Treatment(reference=\"Casado\"))[T.Separado]                0.2817      0.108      2.611      0.009       0.070       0.493\n",
      "C(estado_civil, Treatment(reference=\"Casado\"))[T.Solteiro]                0.2206      0.106      2.084      0.037       0.013       0.428\n",
      "C(estado_civil, Treatment(reference=\"Casado\"))[T.União]                  -0.0557      0.023     -2.414      0.016      -0.101      -0.010\n",
      "C(estado_civil, Treatment(reference=\"Casado\"))[T.Viúvo]                   0.2976      0.109      2.735      0.006       0.084       0.511\n",
      "qtd_filhos                                                               -0.2479      0.105     -2.359      0.018      -0.454      -0.042\n",
      "tempo_emprego                                                             0.0638      0.001     64.900      0.000       0.062       0.066\n",
      "qt_pessoas_residencia                                                     0.2586      0.105      2.464      0.014       0.053       0.464\n",
      "==============================================================================\n",
      "Omnibus:                        0.651   Durbin-Watson:                   2.018\n",
      "Prob(Omnibus):                  0.722   Jarque-Bera (JB):                0.621\n",
      "Skew:                           0.006   Prob(JB):                        0.733\n",
      "Kurtosis:                       3.029   Cond. No.                         529.\n",
      "==============================================================================\n",
      "\n",
      "Notes:\n",
      "[1] Standard Errors assume that the covariance matrix of the errors is correctly specified.\n"
     ]
    }
   ],
   "source": [
    "formula_reduzida = \"\"\"\n",
    "np.log(renda) ~ sexo + posse_de_veiculo +\n",
    "                C(tipo_renda, Treatment(reference=\"Assalariado\")) +\n",
    "                C(estado_civil, Treatment(reference=\"Casado\")) +\n",
    "                qtd_filhos + tempo_emprego + qt_pessoas_residencia\n",
    "\"\"\"\n",
    "\n",
    "df_model = df.drop(columns=['Unnamed: 0', 'data_ref', 'id_cliente'])\n",
    "df_model = df_model.dropna()\n",
    "\n",
    "y_reduzido, X_reduzido = patsy.dmatrices(formula_reduzida, data=df_model, return_type='dataframe')\n",
    "\n",
    "formula_reduzida = sm.OLS(y_reduzido, X_reduzido).fit()\n",
    "\n",
    "print(formula_reduzida.summary())"
   ]
  },
  {
   "cell_type": "markdown",
   "metadata": {},
   "source": [
    "O melhor modelo que esta apresentando continua sendo o primeiro com mais variaveis."
   ]
  },
  {
   "cell_type": "code",
   "execution_count": null,
   "metadata": {},
   "outputs": [],
   "source": []
  },
  {
   "cell_type": "code",
   "execution_count": null,
   "metadata": {},
   "outputs": [],
   "source": []
  }
 ],
 "metadata": {
  "kernelspec": {
   "display_name": "Python 3 (ipykernel)",
   "language": "python",
   "name": "python3"
  },
  "language_info": {
   "codemirror_mode": {
    "name": "ipython",
    "version": 3
   },
   "file_extension": ".py",
   "mimetype": "text/x-python",
   "name": "python",
   "nbconvert_exporter": "python",
   "pygments_lexer": "ipython3",
   "version": "3.12.7"
  }
 },
 "nbformat": 4,
 "nbformat_minor": 4
}
